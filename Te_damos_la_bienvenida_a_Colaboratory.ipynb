{
  "cells": [
    {
      "cell_type": "markdown",
      "metadata": {
        "id": "view-in-github",
        "colab_type": "text"
      },
      "source": [
        "<a href=\"https://colab.research.google.com/github/Ingrith-R2/AW-Clases_Fundamentos-2023b/blob/main/Te_damos_la_bienvenida_a_Colaboratory.ipynb\" target=\"_parent\"><img src=\"https://colab.research.google.com/assets/colab-badge.svg\" alt=\"Open In Colab\"/></a>"
      ]
    },
    {
      "cell_type": "code",
      "source": [
        "import nltk\n",
        "from nltk.chat.util import Chat, reflections\n",
        "\n",
        "reglas = [\n",
        "    [\"Hola|Buenos días \",[\"Hola en que te puedo ayudar ?\",]],\n",
        "    [\"Cual es el precio de (.*)\",[\"El precio es de $1\"],],\n",
        "    [\"Cual es el horario de atención ? \",[ \"Lunes a viernes: 8 a 17\",]],\n",
        "    [\"(.*)\",[\"Lo isento no te puedo ayudar\",]],\n",
        "]\n",
        "#usa red neuronal\n",
        "#Crar chat bot\n",
        "chat = Chat(reglas,reflections)\n",
        "\n",
        "#iniciar conversacion\n",
        "print(\"Bienvenido al chat bot\")\n",
        "while True:\n",
        "  entrada =input()\n",
        "  if entrada.lower()==\"chao\":\n",
        "    print(\"adios\")\n",
        "    break\n",
        "  print(chat.respond(entrada))"
      ],
      "metadata": {
        "colab": {
          "base_uri": "https://localhost:8080/"
        },
        "id": "GTBbdAzQmTdN",
        "outputId": "c5a12648-699f-49b1-da1f-527bd9621a80"
      },
      "execution_count": null,
      "outputs": [
        {
          "output_type": "stream",
          "name": "stdout",
          "text": [
            "Bienvenido al chat bot\n",
            "hola\n",
            "Hola en que te puedo ayudar ?\n",
            "cual es el precio de cocina\n",
            "El precio es de $1\n",
            "cual es el horario de atencion?\n",
            "Lo isento no te puedo ayudar\n",
            "Cual es el horario de atención ?\n",
            "Lunes a viernes: 8 a 17\n"
          ]
        }
      ]
    },
    {
      "cell_type": "code",
      "source": [],
      "metadata": {
        "id": "s4df1ALdmTSw"
      },
      "execution_count": null,
      "outputs": []
    }
  ],
  "metadata": {
    "colab": {
      "name": "Te damos la bienvenida a Colaboratory",
      "toc_visible": true,
      "provenance": [],
      "include_colab_link": true
    },
    "kernelspec": {
      "display_name": "Python 3",
      "name": "python3"
    }
  },
  "nbformat": 4,
  "nbformat_minor": 0
}