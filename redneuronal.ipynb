{
  "nbformat": 4,
  "nbformat_minor": 0,
  "metadata": {
    "colab": {
      "provenance": [],
      "authorship_tag": "ABX9TyPkXISIbGeR9jr+RTvIk8Oa",
      "include_colab_link": true
    },
    "kernelspec": {
      "name": "python3",
      "display_name": "Python 3"
    },
    "language_info": {
      "name": "python"
    }
  },
  "cells": [
    {
      "cell_type": "markdown",
      "metadata": {
        "id": "view-in-github",
        "colab_type": "text"
      },
      "source": [
        "<a href=\"https://colab.research.google.com/github/Ingrith-R2/AW-Clases_Fundamentos-2023b/blob/main/redneuronal.ipynb\" target=\"_parent\"><img src=\"https://colab.research.google.com/assets/colab-badge.svg\" alt=\"Open In Colab\"/></a>"
      ]
    },
    {
      "cell_type": "code",
      "execution_count": null,
      "metadata": {
        "colab": {
          "base_uri": "https://localhost:8080/"
        },
        "id": "mhRq58HGGXXi",
        "outputId": "7b213a67-22f2-423e-a63b-a46ff96e0439"
      },
      "outputs": [
        {
          "output_type": "stream",
          "name": "stdout",
          "text": [
            "1/1 [==============================] - 0s 72ms/step\n",
            "[[36.92075]]\n"
          ]
        }
      ],
      "source": [
        "#Problema de apredizaje supervisado\n",
        "#X = grados celcius\n",
        "#y = grados fahrenheit\n",
        "\n",
        "from sklearn.model_selection import train_test_split\n",
        "import tensorflow as tf\n",
        "from tensorflow import keras\n",
        "import pandas as pd\n",
        "\n",
        "#leer el archivo\n",
        "datos = pd.read_excel(\"temperatura.xlsx\")\n",
        "print(datos.head())\n",
        "\n",
        "#Separar caracteristicas de entrada y salida\n",
        "x = datos['celsius']\n",
        "y = datos['fahrenheit']\n",
        "\n",
        "#Dividir los datos en conjunto de entrenamiento\n",
        "x_train, x_test, y_train, y_test=train_test_split(x,y,test_size=0.2,random_state=25)\n",
        "\n",
        "#crear red neuronal - percepton tiene solo una capa\n",
        "#el numero de neuronas va con el numero de carcateristicas /(units = 1,)  = celsius ya que el otro es salida y etiqueta /input_shape = [1] inda que es unidimencional\n",
        "capa_entrada= tf.keras.layers.Dense(units = 1, input_shape = [1]) #es una secuencia\n",
        "\n",
        "#Creacion del modelo, es un modelo secuencial de alimentacion directa tiene una sola capa que es la de entrada (el mas basico)\n",
        "modelo = tf.keras.Sequential([capa_entrada])\n",
        "\n",
        "\n",
        "#compilacion del modelo se indica el algoritmo de optimizacion y de perdida\n",
        "modelo.compile(optimizer = 'adam', loss = 'mean_squared_error')\n",
        "\n",
        "\n",
        "#Entrenar el modelo /indicar las epocas (cuantas veces se va a repetir) mientras mas se repita mejor la optimizacion y el modelo pero mas se demora\n",
        "#  batch_size=2 tamaño de lote despues de cada 2 se actualiza\n",
        "\n",
        "\n",
        "historial = modelo.fit(x_train,y_train, epochs= 100, batch_size=1)\n",
        "\n",
        "\n",
        "#graficar funcion de perdida\n",
        "import matplotlib.pyplot as plt\n",
        "plt.plot(historial.history[\"loss\"])\n",
        "\n",
        "#Evaluar el modelo\n",
        "perdida = modelo.evaluate(x_test,y_test)\n",
        "print(perdida)\n",
        "\n",
        "#Prediccion\n",
        "print(modelo.predict([25]))"
      ]
    },
    {
      "cell_type": "code",
      "source": [
        "#Problema de apredizaje supervisado\n",
        "#X = grados celcius\n",
        "#y = grados fahrenheit\n",
        "\n",
        "from sklearn.model_selection import train_test_split\n",
        "import tensorflow as tf\n",
        "from tensorflow import keras\n",
        "import pandas as pd\n",
        "\n",
        "#leer el archivo\n",
        "datos = pd.read_excel(\"temperatura.xlsx\")\n",
        "print(datos.head())\n",
        "\n",
        "#Separar caracteristicas de entrada y salida\n",
        "x = datos['celsius']\n",
        "y = datos['fahrenheit']\n",
        "\n",
        "#Dividir los datos en conjunto de entrenamiento\n",
        "x_train, x_test, y_train, y_test=train_test_split(x,y,test_size=0.2,random_state=25)\n",
        "\n",
        "\n",
        "#Modelo con 2 capas, 2 neuronas\n",
        "capa_entrada= tf.keras.layers.Dense(units = 1, input_shape = [1]) #es una secuencia\n",
        "capa_salida= tf.keras.layers.Dense(units = 1) #no hace falta poner la forma ya que es de salida\n",
        "#crear una capa oculta\n",
        "capa_oculta = tf.keras.layers.Dense(units = 3)\n",
        "capa_oculta2 = tf.keras.layers.Dense(units = 3)\n",
        "modelo = tf.keras.Sequential([capa_entrada,capa_oculta,capa_oculta2,capa_salida])\n",
        "\n",
        "\n",
        "\n",
        "\n",
        "#compilacion del modelo se indica el algoritmo de optimizacion y de perdida\n",
        "modelo.compile(optimizer = 'adam', loss = 'mean_squared_error')\n",
        "\n",
        "\n",
        "#Entrenar el modelo /indicar las epocas (cuantas veces se va a repetir) mientras mas se repita mejor la optimizacion y el modelo pero mas se demora\n",
        "#  batch_size=2 tamaño de lote despues de cada 2 se actualiza\n",
        "historial = modelo.fit(x_train,y_train, epochs= 100, batch_size=1)\n",
        "\n",
        "\n",
        "#graficar funcion de perdida\n",
        "import matplotlib.pyplot as plt\n",
        "plt.plot(historial.history[\"loss\"])\n",
        "\n",
        "#Evaluar el modelo\n",
        "perdida = modelo.evaluate(x_test,y_test)\n",
        "print(perdida)\n",
        "\n",
        "#Prediccion\n",
        "print(modelo.predict([25]))"
      ],
      "metadata": {
        "id": "kxQ_S5yPIPmO"
      },
      "execution_count": null,
      "outputs": []
    },
    {
      "cell_type": "code",
      "source": [
        "#Problema de apredizaje supervisado\n",
        "from sklearn.model_selection import train_test_split\n",
        "import tensorflow as tf\n",
        "from tensorflow import keras\n",
        "import pandas as pd\n",
        "\n",
        "#leer el archivo\n",
        "datos = pd.read_csv(\"precio.csv\")\n",
        "print(datos.head())\n",
        "\n",
        "#Separar caracteristicas de entrada y salida\n",
        "x = datos['airport']\n",
        "y = datos['price']\n",
        "\n",
        "#Dividir los datos en conjunto de entrenamiento\n",
        "x_train, x_test, y_train, y_test=train_test_split(x,y,test_size=0.7,random_state=25)\n",
        "\n",
        "\n",
        "#Modelo con 2 capas, 2 neuronas\n",
        "capa_entrada= tf.keras.layers.Dense(units = 10, input_shape = [1]) #es una secuencia\n",
        "capa_salida= tf.keras.layers.Dense(units = 1) #no hace falta poner la forma ya que es de salida\n",
        "#crear una capa oculta\n",
        "capa_oculta = tf.keras.layers.Dense(units = 3)\n",
        "capa_oculta2 = tf.keras.layers.Dense(units = 3)\n",
        "modelo = tf.keras.Sequential([capa_entrada,capa_oculta,capa_oculta2,capa_salida])\n",
        "\n",
        "#compilacion del modelo se indica el algoritmo de optimizacion y de perdida\n",
        "modelo.compile(optimizer = 'adam', loss = 'mean_squared_error')\n",
        "\n",
        "\n",
        "#Entrenar el modelo /indicar las epocas (cuantas veces se va a repetir) mientras mas se repita mejor la optimizacion y el modelo pero mas se demora\n",
        "#  batch_size=2 tamaño de lote despues de cada 2 se actualiza\n",
        "historial = modelo.fit(x_train,y_train, epochs= 10, batch_size=1)\n",
        "\n",
        "#graficar funcion de perdida\n",
        "import matplotlib.pyplot as plt\n",
        "plt.plot(historial.history[\"loss\"])\n",
        "\n",
        "#Evaluar el modelo\n",
        "perdida = modelo.evaluate(x_test,y_test)\n",
        "print(perdida)\n",
        "\n",
        "#Prediccion\n",
        "print(modelo.predict([0.05,30.0,0.40,8.0,40.0,6.0,5.5,6.2,6.0,1]))\n"
      ],
      "metadata": {
        "colab": {
          "base_uri": "https://localhost:8080/",
          "height": 1000
        },
        "id": "OXLO4Xhn_kqI",
        "outputId": "b6b6a948-1caa-4203-c9a7-e921cb39dbf6"
      },
      "execution_count": null,
      "outputs": [
        {
          "output_type": "stream",
          "name": "stdout",
          "text": [
            "   price  crime_rate  resid_area  air_qual  room_num   age  dist1  dist2  \\\n",
            "0   24.0     0.00632       32.31     0.538     6.575  65.2   4.35   3.81   \n",
            "1   21.6     0.02731       37.07     0.469     6.421  78.9   4.99   4.70   \n",
            "2   34.7     0.02729       37.07     0.469     7.185  61.1   5.03   4.86   \n",
            "3   33.4     0.03237       32.18     0.458     6.998  45.8   6.21   5.93   \n",
            "4   36.2     0.06905       32.18     0.458     7.147  54.2   6.16   5.86   \n",
            "\n",
            "   dist3  dist4  airport  \n",
            "0   4.18   4.01        1  \n",
            "1   5.12   5.06        0  \n",
            "2   5.01   4.97        0  \n",
            "3   6.16   5.96        1  \n",
            "4   6.37   5.86        0  \n",
            "Epoch 1/10\n",
            "151/151 [==============================] - 1s 2ms/step - loss: 533.2092\n",
            "Epoch 2/10\n",
            "151/151 [==============================] - 0s 2ms/step - loss: 284.5339\n",
            "Epoch 3/10\n",
            "151/151 [==============================] - 0s 2ms/step - loss: 108.8553\n",
            "Epoch 4/10\n",
            "151/151 [==============================] - 0s 2ms/step - loss: 95.7769\n",
            "Epoch 5/10\n",
            "151/151 [==============================] - 0s 2ms/step - loss: 90.5332\n",
            "Epoch 6/10\n",
            "151/151 [==============================] - 0s 2ms/step - loss: 87.1292\n",
            "Epoch 7/10\n",
            "151/151 [==============================] - 0s 2ms/step - loss: 84.6374\n",
            "Epoch 8/10\n",
            "151/151 [==============================] - 0s 2ms/step - loss: 82.2879\n",
            "Epoch 9/10\n",
            "151/151 [==============================] - 0s 2ms/step - loss: 81.7920\n",
            "Epoch 10/10\n",
            "151/151 [==============================] - 0s 2ms/step - loss: 80.5215\n",
            "12/12 [==============================] - 0s 2ms/step - loss: 82.4167\n",
            "82.41665649414062\n",
            "1/1 [==============================] - 0s 80ms/step\n",
            "[[ 20.303808]\n",
            " [125.31523 ]\n",
            " [ 21.530985]\n",
            " [ 48.17829 ]\n",
            " [160.37746 ]\n",
            " [ 41.165836]\n",
            " [ 39.41273 ]\n",
            " [ 41.86708 ]\n",
            " [ 41.165836]\n",
            " [ 23.634722]]\n"
          ]
        },
        {
          "output_type": "display_data",
          "data": {
            "text/plain": [
              "<Figure size 640x480 with 1 Axes>"
            ],
            "image/png": "[encoded data removed]"
          },
          "metadata": {}
        }
      ]
    }
  ]
}