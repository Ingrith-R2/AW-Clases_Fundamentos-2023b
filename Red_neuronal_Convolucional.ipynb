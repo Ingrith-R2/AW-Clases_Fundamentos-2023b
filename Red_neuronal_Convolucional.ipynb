{
  "nbformat": 4,
  "nbformat_minor": 0,
  "metadata": {
    "colab": {
      "provenance": [],
      "authorship_tag": "ABX9TyPBOm1ekYPKyeXd0SRildRZ",
      "include_colab_link": true
    },
    "kernelspec": {
      "name": "python3",
      "display_name": "Python 3"
    },
    "language_info": {
      "name": "python"
    }
  },
  "cells": [
    {
      "cell_type": "markdown",
      "metadata": {
        "id": "view-in-github",
        "colab_type": "text"
      },
      "source": [
        "<a href=\"https://colab.research.google.com/github/Ingrith-R2/AW-Clases_Fundamentos-2023b/blob/main/Red_neuronal_Convolucional.ipynb\" target=\"_parent\"><img src=\"https://colab.research.google.com/assets/colab-badge.svg\" alt=\"Open In Colab\"/></a>"
      ]
    },
    {
      "cell_type": "markdown",
      "source": [
        "Red neuronal profunda\n",
        "Capa de entrada\n",
        "Capa de convolucion\n",
        "Capa de agrupacion\n",
        "Capa de aplanamiento -transforma sus caracteristicas multidimensionales a unidimensionales"
      ],
      "metadata": {
        "id": "2P9_KBIsPjG6"
      }
    },
    {
      "cell_type": "code",
      "source": [
        "#importar librerias\n",
        "import tensorflow as tf\n",
        "from tensorflow import keras\n",
        "import matplotlib.pyplot as plt\n",
        "\n",
        "\n",
        "#cargar datos de entrenamiento y de prueba (imagenes de numero)\n",
        "(x_train, y_train), (x_test, y_test) = keras.datasets.mnist.load_data()\n",
        "#ver imagen\n",
        "plt.imshow(x_train[100])\n",
        "#conocer tamaño y numero de imagenes\n",
        "x_train.shape\n"
      ],
      "metadata": {
        "colab": {
          "base_uri": "https://localhost:8080/",
          "height": 485
        },
        "id": "8e7aogeFPlVK",
        "outputId": "7c059745-f99d-4670-8614-af9535778802"
      },
      "execution_count": 4,
      "outputs": [
        {
          "output_type": "stream",
          "name": "stdout",
          "text": [
            "Downloading data from https://storage.googleapis.com/tensorflow/tf-keras-datasets/mnist.npz\n",
            "11490434/11490434 [==============================] - 0s 0us/step\n"
          ]
        },
        {
          "output_type": "execute_result",
          "data": {
            "text/plain": [
              "(60000, 28, 28)"
            ]
          },
          "metadata": {},
          "execution_count": 4
        },
        {
          "output_type": "display_data",
          "data": {
            "text/plain": [
              "<Figure size 640x480 with 1 Axes>"
            ],
            "image/png": "[encoded data removed]"
          },
          "metadata": {}
        }
      ]
    },
    {
      "cell_type": "code",
      "source": [
        "\n",
        "#Preparar datos\n",
        "#Estandarizar los valores entre 0 y 1 de pixeles (0 255)\n",
        "\n",
        "x_train=x_train.astype(\"float32\")/255\n",
        "x_test=x_test.astype(\"float32\")/255\n",
        "\n",
        "#Cambiar forma de los datos (-1: establece la dimension, tamño pixeles, b/n(1) o color(3))\n",
        "x_train=x_train.reshape(-1,28,28,1)\n",
        "x_test=x_test.reshape(-1,28,28,1)\n",
        "\n",
        "#Crear Arquitectura de la red neuronal convolucional\n",
        "\n",
        "from tensorflow.keras.layers import Conv2D, MaxPooling2D, Flatten, Dense\n",
        "#capa convolucion(#filtros, kernel,fun actvación, forma entrada)\n",
        "capa_convolucion=Conv2D(32,kernel_size=(3,3),activation=\"relu\",input_shape=(28,28,1))\n",
        "#Capa de agrupamiento, cada región de 2x2 píxeles en la entrada se reduce a un solo píxe\n",
        "capa_agrupamiento=MaxPooling2D(pool_size=(2,2))\n",
        "#Cpa de aplanamiento\n",
        "capa_aplanamiento=Flatten()\n",
        "#Caps Densas ocultas (numero de nuronas)\n",
        "capa_oculta= Dense(units=64,activation=\"relu\")\n",
        "#capa salida\n",
        "capa_salida=Dense(units=10,activation=\"softmax\")\n",
        "\n",
        "modelo=keras.Sequential([capa_convolucion,capa_agrupamiento,capa_aplanamiento, capa_oculta, capa_salida])\n",
        "\n",
        "#Compilar el modelo\n",
        "modelo.compile(optimizer='adam', loss='categorical_crossentropy',metrics=[\"accuracy\"])\n",
        "\n",
        "#pasar a categoricas (10 salidas)\n",
        "y_train = keras.utils.to_categorical(y_train, num_classes=10)\n",
        "y_test = keras.utils.to_categorical(y_test, num_classes=10)\n",
        "\n",
        "#Entrenar el modelo\n",
        "\n",
        "modelo.fit(x_train,y_train,batch_size=128, epochs=5)\n",
        "\n",
        "#Evaluar modelo con los datos de prueba\n",
        "func_perdida=modelo.evaluate(x_test,y_test)\n",
        "print(\"La función de perdida es: \",func_perdida[0])\n",
        "print(\"La precision es: \",func_perdida[1])\n",
        "\n",
        "#leer imagen\n",
        "imagen=x_test[105]\n",
        "plt.imshow(imagen)\n",
        "\n",
        "import numpy as np\n",
        "#Agregar una dimensión adicional para representar el canal de color(escala de grises) se grega al final\n",
        "imagen=np.expand_dims(imagen, axis=-1)\n",
        "\n",
        "#Agregar una dimensión adicional para representar el lote de imagenes\n",
        "imagen=np.expand_dims(imagen, axis=0)\n",
        "\n",
        "#Realizar prediccion\n",
        "prediccion= modelo.predict(imagen)\n",
        "prediccion_categoria= np.argmax(prediccion[0])\n",
        "\n",
        "#Imprimir prediccion\n",
        "print('La imagen se clasifica como:',prediccion_categoria)"
      ],
      "metadata": {
        "id": "apFwcOsdSSlV",
        "colab": {
          "base_uri": "https://localhost:8080/",
          "height": 254
        },
        "outputId": "d7516207-2176-4c52-c300-b9cceb6bd660"
      },
      "execution_count": 3,
      "outputs": [
        {
          "output_type": "error",
          "ename": "NameError",
          "evalue": "name 'x_train' is not defined",
          "traceback": [
            "\u001b[0;31m---------------------------------------------------------------------------\u001b[0m",
            "\u001b[0;31mNameError\u001b[0m                                 Traceback (most recent call last)",
            "\u001b[0;32m<ipython-input-3-fd68cc2645ef>\u001b[0m in \u001b[0;36m<cell line: 4>\u001b[0;34m()\u001b[0m\n\u001b[1;32m      2\u001b[0m \u001b[0;31m#Estandarizar los valores entre 0 y 1 de pixeles (0 255)\u001b[0m\u001b[0;34m\u001b[0m\u001b[0;34m\u001b[0m\u001b[0m\n\u001b[1;32m      3\u001b[0m \u001b[0;34m\u001b[0m\u001b[0m\n\u001b[0;32m----> 4\u001b[0;31m \u001b[0mx_train\u001b[0m\u001b[0;34m=\u001b[0m\u001b[0mx_train\u001b[0m\u001b[0;34m.\u001b[0m\u001b[0mastype\u001b[0m\u001b[0;34m(\u001b[0m\u001b[0;34m\"float32\"\u001b[0m\u001b[0;34m)\u001b[0m\u001b[0;34m/\u001b[0m\u001b[0;36m255\u001b[0m\u001b[0;34m\u001b[0m\u001b[0;34m\u001b[0m\u001b[0m\n\u001b[0m\u001b[1;32m      5\u001b[0m \u001b[0mx_test\u001b[0m\u001b[0;34m=\u001b[0m\u001b[0mx_test\u001b[0m\u001b[0;34m.\u001b[0m\u001b[0mastype\u001b[0m\u001b[0;34m(\u001b[0m\u001b[0;34m\"float32\"\u001b[0m\u001b[0;34m)\u001b[0m\u001b[0;34m/\u001b[0m\u001b[0;36m255\u001b[0m\u001b[0;34m\u001b[0m\u001b[0;34m\u001b[0m\u001b[0m\n\u001b[1;32m      6\u001b[0m \u001b[0;34m\u001b[0m\u001b[0m\n",
            "\u001b[0;31mNameError\u001b[0m: name 'x_train' is not defined"
          ]
        }
      ]
    }
  ]
}